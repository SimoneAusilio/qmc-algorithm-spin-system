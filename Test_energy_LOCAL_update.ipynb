{
 "cells": [
  {
   "cell_type": "code",
   "execution_count": 19,
   "metadata": {},
   "outputs": [],
   "source": [
    "### WARNING ON THIS VERSION OF A JUPYTER NOTEBOOK\n",
    "# ANIMATION ARE NOT POSSIBLE\n",
    "# \n",
    "# #%matplotlib ipympl\n",
    "import hamiltonian\n",
    "import configuration\n",
    "import Projet_Code\n",
    "from importlib import reload\n",
    "\n"
   ]
  },
  {
   "cell_type": "code",
   "execution_count": 20,
   "metadata": {},
   "outputs": [],
   "source": [
    "import numpy as np\n",
    "import matplotlib.pyplot as plt\n",
    "from matplotlib import collections  as mc \n",
    "from matplotlib.animation import FuncAnimation\n",
    "import Projet_Code\n",
    "import configuration\n",
    "import functools"
   ]
  },
  {
   "cell_type": "code",
   "execution_count": 21,
   "metadata": {},
   "outputs": [],
   "source": [
    "reload(Projet_Code)\n",
    "L=6\n",
    "Beta=20\n",
    "m=3\n",
    "Jx=1\n",
    "Jz=2\n",
    "chess=Projet_Code.Chessboard(L, Beta, m, Jx, Jz)\n",
    "conf=configuration.Configuration(chess)"
   ]
  },
  {
   "cell_type": "code",
   "execution_count": 13,
   "metadata": {},
   "outputs": [],
   "source": [
    "length_cycle=100    # number of update trials (arbitrary for the moment)\n",
    "N=200   # time steps"
   ]
  },
  {
   "cell_type": "code",
   "execution_count": 22,
   "metadata": {},
   "outputs": [],
   "source": [
    "def average_energy(n):\n",
    "    energy = chess._get_average_energy()\n",
    "    for j in range(1,n):\n",
    "        for i in range(length_cycle):\n",
    "            chess.local_update()\n",
    "        conf._update_configuration(chess)\n",
    "        energy = (energy*j+chess._get_average_energy())/j+1\n",
    "    return energy"
   ]
  }
 ],
 "metadata": {
  "kernelspec": {
   "display_name": "Python 3.8.5 ('base')",
   "language": "python",
   "name": "python3"
  },
  "language_info": {
   "codemirror_mode": {
    "name": "ipython",
    "version": 3
   },
   "file_extension": ".py",
   "mimetype": "text/x-python",
   "name": "python",
   "nbconvert_exporter": "python",
   "pygments_lexer": "ipython3",
   "version": "3.8.5"
  },
  "orig_nbformat": 4,
  "vscode": {
   "interpreter": {
    "hash": "ad2bdc8ecc057115af97d19610ffacc2b4e99fae6737bb82f5d7fb13d2f2c186"
   }
  }
 },
 "nbformat": 4,
 "nbformat_minor": 2
}
