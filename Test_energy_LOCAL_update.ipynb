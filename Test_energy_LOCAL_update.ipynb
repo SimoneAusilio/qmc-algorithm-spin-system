{
 "cells": [
  {
   "cell_type": "code",
   "execution_count": 4,
   "metadata": {},
   "outputs": [],
   "source": [
    "import hamiltonian\n",
    "import configuration\n",
    "import Projet_Code\n",
    "from importlib import reload\n",
    "\n"
   ]
  },
  {
   "cell_type": "code",
   "execution_count": 10,
   "metadata": {},
   "outputs": [],
   "source": [
    "import numpy as np\n",
    "import matplotlib.pyplot as plt\n",
    "from matplotlib import collections  as mc \n",
    "from matplotlib.animation import FuncAnimation\n",
    "import Projet_Code\n",
    "import configuration\n",
    "import functools"
   ]
  },
  {
   "cell_type": "code",
   "execution_count": 7,
   "metadata": {},
   "outputs": [],
   "source": [
    "reload(Projet_Code)\n",
    "L=6\n",
    "Beta=20\n",
    "m=3\n",
    "Jx=1\n",
    "Jz=2\n",
    "chessboard=Projet_Code.Chessboard(L, Beta, m, Jx, Jz)\n",
    "conf=configuration.Configuration(chessboard)"
   ]
  },
  {
   "cell_type": "code",
   "execution_count": 8,
   "metadata": {},
   "outputs": [],
   "source": [
    "length_cycle=100    # number of update trials (arbitrary for the moment)\n",
    "N=200   # time steps"
   ]
  },
  {
   "cell_type": "code",
   "execution_count": 26,
   "metadata": {},
   "outputs": [
    {
     "data": {
      "image/png": "[encoded data removed]",
      "text/plain": [
       "<Figure size 720x360 with 1 Axes>"
      ]
     },
     "metadata": {
      "needs_background": "light"
     },
     "output_type": "display_data"
    },
    {
     "data": {
      "text/plain": [
       "(-1.0, 1.0)"
      ]
     },
     "execution_count": 26,
     "metadata": {},
     "output_type": "execute_result"
    }
   ],
   "source": [
    "# plot worldline configuration and energy (two-panel figure)\n",
    "fig=plt.figure(figsize=(10, 5))\n",
    "# worldline configuration\n",
    "ax1=fig.add_subplot(1, 2, 1)\n",
    "ax1.set_title(\"Worldline configuration\")\n",
    "\n",
    "\n",
    "im=ax1.imshow(chessboard.binary_chessboard, cmap='binary_r', interpolation='nearest', extent=chessboard.extent, alpha=1, aspect=1)\n",
    "color_red=(1, 0, 0, 1)\n",
    "lines=chessboard.worldlines_board\n",
    "print(lines)\n",
    "#lines = [[(0,1),(0,2)],[]]\n",
    "lc=mc.LineCollection(lines, colors=color_red, linewidths=4)\n",
    "ax1.add_collection(lc)\n",
    "plt.show()\n",
    "lc.remove()\n",
    "plt.show()\n",
    "\n",
    "# energy per spin\n",
    "ax2=fig.add_subplot(1, 2, 2)\n",
    "ax2.set_title(\"Energy per spin\")\n",
    "curve, =ax2.plot([], [])\n",
    "ax2.set_xlim(0, N)\n",
    "ax2.set_ylim(-1, 1)\n",
    "\n"
   ]
  },
  {
   "cell_type": "code",
   "execution_count": 31,
   "metadata": {},
   "outputs": [
    {
     "ename": "TypeError",
     "evalue": "remove() takes 1 positional argument but 2 were given",
     "output_type": "error",
     "traceback": [
      "\u001b[1;31m---------------------------------------------------------------------------\u001b[0m",
      "\u001b[1;31mTypeError\u001b[0m                                 Traceback (most recent call last)",
      "\u001b[1;32m<ipython-input-31-ed4dc97288a0>\u001b[0m in \u001b[0;36m<module>\u001b[1;34m\u001b[0m\n\u001b[1;32m----> 1\u001b[1;33m \u001b[0mlc\u001b[0m\u001b[1;33m.\u001b[0m\u001b[0mremove\u001b[0m\u001b[1;33m(\u001b[0m\u001b[0mlines\u001b[0m\u001b[1;33m[\u001b[0m\u001b[1;36m0\u001b[0m\u001b[1;33m]\u001b[0m\u001b[1;33m)\u001b[0m\u001b[1;33m\u001b[0m\u001b[1;33m\u001b[0m\u001b[0m\n\u001b[0m\u001b[0;32m      2\u001b[0m \u001b[0mplt\u001b[0m\u001b[1;33m.\u001b[0m\u001b[0mshow\u001b[0m\u001b[1;33m(\u001b[0m\u001b[1;33m)\u001b[0m\u001b[1;33m\u001b[0m\u001b[1;33m\u001b[0m\u001b[0m\n",
      "\u001b[1;31mTypeError\u001b[0m: remove() takes 1 positional argument but 2 were given"
     ]
    }
   ],
   "source": [
    "lc.remove(lines[0])\n",
    "plt.show()"
   ]
  },
  {
   "cell_type": "code",
   "execution_count": 19,
   "metadata": {},
   "outputs": [],
   "source": [
    "def worldline_anim(n):\n",
    "        '''Animation function for update algorithm'''\n",
    "        # update trial\n",
    "        for i in range(length_cycle):\n",
    "            chess.local_update()\n",
    "        e=np.average(np.array([conf._get_energy(i) for i in range(2*conf.m)]))/conf.size\n",
    "        # plot update (left)\n",
    "        lc.remove()\n",
    "        lines=chess._get_worldlines_board()\n",
    "        lc=mc.LineCollection(lines, colors=color_red, linewidths=4)\n",
    "        ax1.add_collection(lc)\n",
    "        # plot update (right)\n",
    "        if len(time)<N: time.append(n)\n",
    "        if len(energ)<N: energ.append(e)\n",
    "        else:\n",
    "            energ.insert(N, e)\n",
    "            energ.pop(0)\n",
    "        curve.set_data(time, energ)\n",
    "        return (lines, curve)"
   ]
  },
  {
   "cell_type": "code",
   "execution_count": 20,
   "metadata": {},
   "outputs": [],
   "source": [
    "time=[]\n",
    "energ=[]\n",
    "animation=FuncAnimation(fig, worldline_anim, interval=1, blit=False)\n",
    "plt.show()\n"
   ]
  }
 ],
 "metadata": {
  "kernelspec": {
   "display_name": "Python 3.8.5 ('base')",
   "language": "python",
   "name": "python3"
  },
  "language_info": {
   "codemirror_mode": {
    "name": "ipython",
    "version": 3
   },
   "file_extension": ".py",
   "mimetype": "text/x-python",
   "name": "python",
   "nbconvert_exporter": "python",
   "pygments_lexer": "ipython3",
   "version": "3.8.5"
  },
  "orig_nbformat": 4,
  "vscode": {
   "interpreter": {
    "hash": "ad2bdc8ecc057115af97d19610ffacc2b4e99fae6737bb82f5d7fb13d2f2c186"
   }
  }
 },
 "nbformat": 4,
 "nbformat_minor": 2
}
