{
 "cells": [
  {
   "cell_type": "code",
   "execution_count": 55,
   "metadata": {},
   "outputs": [
    {
     "data": {
      "image/png": "[encoded data removed]",
      "text/plain": [
       "<Figure size 432x288 with 1 Axes>"
      ]
     },
     "metadata": {
      "needs_background": "light"
     },
     "output_type": "display_data"
    }
   ],
   "source": [
    "import Projet_Code\n",
    "import vertex\n",
    "from square import Square\n",
    "from importlib import reload\n",
    "reload(Projet_Code)\n",
    "reload(vertex)\n",
    "essai_chessboard = Projet_Code.Chessboard(2,20,1,2,4)\n",
    "essai_chessboard._plot_chessboard_image()"
   ]
  },
  {
   "cell_type": "code",
   "execution_count": 51,
   "metadata": {},
   "outputs": [
    {
     "name": "stdout",
     "output_type": "stream",
     "text": [
      "(array([0, 1], dtype=int64), array([0, 1], dtype=int64))\n",
      "-1\n",
      "[1 1]\n"
     ]
    }
   ],
   "source": [
    "import numpy as np\n",
    "vertice = np.array([[1,-1],[-1,1]])\n",
    "b = np.where(vertice>0)\n",
    "print(b)\n",
    "print(vertice[0][1])\n",
    "print(vertice[b])"
   ]
  },
  {
   "cell_type": "code",
   "execution_count": 44,
   "metadata": {},
   "outputs": [
    {
     "data": {
      "text/plain": [
       "[(0, 0), (1, 1)]"
      ]
     },
     "execution_count": 44,
     "metadata": {},
     "output_type": "execute_result"
    }
   ],
   "source": [
    "[(i, j) for i, j in zip(b[0], b[1])]"
   ]
  },
  {
   "cell_type": "code",
   "execution_count": 59,
   "metadata": {},
   "outputs": [
    {
     "name": "stdout",
     "output_type": "stream",
     "text": [
      "Collecting ipykernelNote: you may need to restart the kernel to use updated packages.\n"
     ]
    },
    {
     "name": "stderr",
     "output_type": "stream",
     "text": [
      "  WARNING: The scripts ipython.exe, ipython3.10.exe and ipython3.exe are installed in 'C:\\Users\\nun-o\\AppData\\Roaming\\Python\\Python38\\Scripts' which is not on PATH.\n",
      "  Consider adding this directory to PATH or, if you prefer to suppress this warning, use --no-warn-script-location.\n"
     ]
    },
    {
     "name": "stdout",
     "output_type": "stream",
     "text": [
      "\n",
      "  Using cached ipykernel-6.17.1-py3-none-any.whl (138 kB)\n",
      "Collecting ipython>=7.23.1\n",
      "  Using cached ipython-8.7.0-py3-none-any.whl (761 kB)\n",
      "Requirement already satisfied, skipping upgrade: psutil in c:\\programdata\\anaconda3\\lib\\site-packages (from ipykernel) (5.7.2)\n",
      "Collecting traitlets>=5.1.0\n",
      "  Using cached traitlets-5.6.0-py3-none-any.whl (107 kB)\n",
      "Requirement already satisfied, skipping upgrade: pyzmq>=17 in c:\\programdata\\anaconda3\\lib\\site-packages (from ipykernel) (19.0.2)\n",
      "Collecting matplotlib-inline>=0.1\n",
      "  Using cached matplotlib_inline-0.1.6-py3-none-any.whl (9.4 kB)\n",
      "Collecting tornado>=6.1\n",
      "  Using cached tornado-6.2-cp37-abi3-win_amd64.whl (425 kB)\n",
      "Requirement already satisfied, skipping upgrade: nest-asyncio in c:\\programdata\\anaconda3\\lib\\site-packages (from ipykernel) (1.4.2)\n",
      "Requirement already satisfied, skipping upgrade: packaging in c:\\users\\nun-o\\appdata\\roaming\\python\\python38\\site-packages (from ipykernel) (21.3)\n",
      "Requirement already satisfied, skipping upgrade: debugpy>=1.0 in c:\\programdata\\anaconda3\\lib\\site-packages (from ipykernel) (1.6.4)\n",
      "Collecting jupyter-client>=6.1.12\n",
      "  Using cached jupyter_client-7.4.7-py3-none-any.whl (133 kB)\n",
      "Requirement already satisfied, skipping upgrade: pygments>=2.4.0 in c:\\programdata\\anaconda3\\lib\\site-packages (from ipython>=7.23.1->ipykernel) (2.7.2)\n",
      "Requirement already satisfied, skipping upgrade: backcall in c:\\programdata\\anaconda3\\lib\\site-packages (from ipython>=7.23.1->ipykernel) (0.2.0)\n",
      "Requirement already satisfied, skipping upgrade: jedi>=0.16 in c:\\programdata\\anaconda3\\lib\\site-packages (from ipython>=7.23.1->ipykernel) (0.17.1)\n",
      "Requirement already satisfied, skipping upgrade: decorator in c:\\programdata\\anaconda3\\lib\\site-packages (from ipython>=7.23.1->ipykernel) (4.4.2)\n",
      "Collecting prompt-toolkit<3.1.0,>=3.0.11\n",
      "  Using cached prompt_toolkit-3.0.33-py3-none-any.whl (383 kB)\n",
      "Collecting stack-data\n",
      "  Using cached stack_data-0.6.2-py3-none-any.whl (24 kB)\n",
      "Requirement already satisfied, skipping upgrade: pickleshare in c:\\programdata\\anaconda3\\lib\\site-packages (from ipython>=7.23.1->ipykernel) (0.7.5)\n",
      "Requirement already satisfied, skipping upgrade: colorama; sys_platform == \"win32\" in c:\\programdata\\anaconda3\\lib\\site-packages (from ipython>=7.23.1->ipykernel) (0.4.4)\n",
      "Requirement already satisfied, skipping upgrade: pyparsing!=3.0.5,>=2.0.2 in c:\\users\\nun-o\\appdata\\roaming\\python\\python38\\site-packages (from packaging->ipykernel) (3.0.9)\n",
      "Collecting jupyter-core>=4.9.2\n",
      "  Using cached jupyter_core-5.1.0-py3-none-any.whl (92 kB)\n",
      "Requirement already satisfied, skipping upgrade: python-dateutil>=2.8.2 in c:\\users\\nun-o\\appdata\\roaming\\python\\python38\\site-packages (from jupyter-client>=6.1.12->ipykernel) (2.8.2)\n",
      "Requirement already satisfied, skipping upgrade: entrypoints in c:\\programdata\\anaconda3\\lib\\site-packages (from jupyter-client>=6.1.12->ipykernel) (0.3)\n",
      "Requirement already satisfied, skipping upgrade: parso<0.8.0,>=0.7.0 in c:\\programdata\\anaconda3\\lib\\site-packages (from jedi>=0.16->ipython>=7.23.1->ipykernel) (0.7.0)\n",
      "Requirement already satisfied, skipping upgrade: wcwidth in c:\\programdata\\anaconda3\\lib\\site-packages (from prompt-toolkit<3.1.0,>=3.0.11->ipython>=7.23.1->ipykernel) (0.2.5)\n",
      "Collecting asttokens>=2.1.0\n",
      "  Using cached asttokens-2.2.0-py2.py3-none-any.whl (26 kB)\n",
      "Collecting executing>=1.2.0\n",
      "  Using cached executing-1.2.0-py2.py3-none-any.whl (24 kB)\n",
      "Collecting pure-eval\n",
      "  Using cached pure_eval-0.2.2-py3-none-any.whl (11 kB)\n",
      "Collecting platformdirs>=2.5\n",
      "  Using cached platformdirs-2.5.4-py3-none-any.whl (14 kB)\n",
      "Requirement already satisfied, skipping upgrade: pywin32>=1.0; sys_platform == \"win32\" and platform_python_implementation != \"PyPy\" in c:\\programdata\\anaconda3\\lib\\site-packages (from jupyter-core>=4.9.2->jupyter-client>=6.1.12->ipykernel) (227)\n",
      "Requirement already satisfied, skipping upgrade: six>=1.5 in c:\\users\\nun-o\\appdata\\roaming\\python\\python38\\site-packages (from python-dateutil>=2.8.2->jupyter-client>=6.1.12->ipykernel) (1.16.0)\n",
      "Installing collected packages: traitlets, matplotlib-inline, prompt-toolkit, asttokens, executing, pure-eval, stack-data, ipython, tornado, platformdirs, jupyter-core, jupyter-client, ipykernel\n",
      "Successfully installed asttokens-2.2.0 executing-1.2.0 ipykernel-6.17.1 ipython-8.7.0 jupyter-client-7.4.7 jupyter-core-5.1.0 matplotlib-inline-0.1.6 platformdirs-2.5.4 prompt-toolkit-3.0.33 pure-eval-0.2.2 stack-data-0.6.2 tornado-6.2 traitlets-5.6.0\n"
     ]
    },
    {
     "name": "stderr",
     "output_type": "stream",
     "text": [
      "  WARNING: The scripts jupyter-migrate.exe, jupyter-troubleshoot.exe and jupyter.exe are installed in 'C:\\Users\\nun-o\\AppData\\Roaming\\Python\\Python38\\Scripts' which is not on PATH.\n",
      "  Consider adding this directory to PATH or, if you prefer to suppress this warning, use --no-warn-script-location.\n",
      "  WARNING: The scripts jupyter-kernel.exe, jupyter-kernelspec.exe and jupyter-run.exe are installed in 'C:\\Users\\nun-o\\AppData\\Roaming\\Python\\Python38\\Scripts' which is not on PATH.\n",
      "  Consider adding this directory to PATH or, if you prefer to suppress this warning, use --no-warn-script-location.\n",
      "ERROR: After October 2020 you may experience errors when installing or updating packages. This is because pip will change the way that it resolves dependency conflicts.\n",
      "\n",
      "We recommend you use --use-feature=2020-resolver to test your packages with the new resolver before it becomes the default.\n",
      "\n",
      "spyder 4.1.5 requires pyqt5<5.13; python_version >= \"3\", which is not installed.\n",
      "spyder 4.1.5 requires pyqtwebengine<5.13; python_version >= \"3\", which is not installed.\n",
      "jupyter-client 7.4.7 requires nest-asyncio>=1.5.4, but you'll have nest-asyncio 1.4.2 which is incompatible.\n",
      "jupyter-client 7.4.7 requires pyzmq>=23.0, but you'll have pyzmq 19.0.2 which is incompatible.\n"
     ]
    }
   ],
   "source": [
    "%pip install -U ipykernel --user"
   ]
  },
  {
   "cell_type": "code",
   "execution_count": 56,
   "metadata": {},
   "outputs": [
    {
     "name": "stdout",
     "output_type": "stream",
     "text": [
      "begin in  0 1\n",
      "Step 0\n",
      "path : [0 1 0 1]\n",
      "0 1 what square 1\n",
      "vertice de  0 1 :  [[-1  1]\n",
      " [ 1 -1]]\n",
      "outward arrow\n",
      "Step 1\n",
      "new path:  [[0 1 0 1]\n",
      " [1 0 1 0]]\n",
      "True\n",
      "a,b 1 0\n",
      "i,j 0 1\n",
      "1 0 what square 2\n",
      "vertice de  1 0 :  [[ 1 -1]\n",
      " [-1  1]]\n",
      "inward arrow\n",
      "pos1,pos2 : [[0, 0], [1, 1]]\n",
      "Step 2\n",
      "new path:  [[0 1 0 1]\n",
      " [1 0 1 0]\n",
      " [1 0 1 1]]\n",
      "False\n",
      "a,b 1 0\n",
      "i,j 0 1\n",
      "1 0 what square 2\n",
      "vertice de  1 0 :  [[ 1 -1]\n",
      " [-1  1]]\n",
      "outward arrow\n",
      "Step 3\n",
      "new path:  [[0 1 0 1]\n",
      " [1 0 1 0]\n",
      " [1 0 1 1]\n",
      " [0 1 0 0]]\n",
      "True\n",
      "a,b 0 1\n",
      "i,j 0 1\n",
      "we should break\n",
      "ensemble path : [[0 1 0 1]\n",
      " [1 0 1 0]\n",
      " [1 0 1 1]\n",
      " [0 1 0 0]]\n",
      "path0,path1 :  [0 1 0 1] [1 0 1 0]\n",
      "path k 0:  0\n",
      "v: [[-1 -1]\n",
      " [ 1 -1]]\n",
      "n: 0\n",
      "path0,path1 :  [0 1 0 1] [1 0 1 0]\n",
      "path k 0:  1\n",
      "v: [[ 1 -1]\n",
      " [ 1  1]]\n",
      "n: 0\n",
      "path0,path1 :  [0 1 0 1] [1 0 1 0]\n",
      "path k 0:  1\n",
      "v: [[ 1 -1]\n",
      " [-1 -1]]\n",
      "n: 0\n",
      "path0,path1 :  [0 1 0 1] [1 0 1 0]\n",
      "path k 0:  0\n",
      "v: [[ 1  1]\n",
      " [ 1 -1]]\n",
      "n: 0\n",
      "loop done\n"
     ]
    }
   ],
   "source": [
    "vertex.loop(essai_chessboard)"
   ]
  },
  {
   "cell_type": "code",
   "execution_count": 57,
   "metadata": {},
   "outputs": [
    {
     "data": {
      "image/png": "[encoded data removed]",
      "text/plain": [
       "<Figure size 432x288 with 1 Axes>"
      ]
     },
     "metadata": {
      "needs_background": "light"
     },
     "output_type": "display_data"
    }
   ],
   "source": [
    "essai_chessboard._plot_chessboard_image()"
   ]
  }
 ],
 "metadata": {
  "kernelspec": {
   "display_name": "Python 3.8.5 ('base')",
   "language": "python",
   "name": "python3"
  },
  "language_info": {
   "codemirror_mode": {
    "name": "ipython",
    "version": 3
   },
   "file_extension": ".py",
   "mimetype": "text/x-python",
   "name": "python",
   "nbconvert_exporter": "python",
   "pygments_lexer": "ipython3",
   "version": "3.8.5"
  },
  "orig_nbformat": 4,
  "vscode": {
   "interpreter": {
    "hash": "ad2bdc8ecc057115af97d19610ffacc2b4e99fae6737bb82f5d7fb13d2f2c186"
   }
  }
 },
 "nbformat": 4,
 "nbformat_minor": 2
}
