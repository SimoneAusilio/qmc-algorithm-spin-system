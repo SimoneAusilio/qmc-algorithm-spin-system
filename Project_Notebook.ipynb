{
 "cells": [
  {
   "cell_type": "code",
   "execution_count": 199,
   "metadata": {},
   "outputs": [],
   "source": [
    "import chessboard"
   ]
  },
  {
   "cell_type": "code",
   "execution_count": 323,
   "metadata": {},
   "outputs": [],
   "source": [
    "import Projet_Code\n",
    "from importlib import reload\n",
    "reload(Projet_Code)\n",
    "essai_chessboard = Projet_Code.Chessboard(4,5,3,2,2)"
   ]
  },
  {
   "cell_type": "code",
   "execution_count": 324,
   "metadata": {},
   "outputs": [
    {
     "data": {
      "image/png": "[encoded data removed]",
      "text/plain": [
       "<Figure size 432x288 with 1 Axes>"
      ]
     },
     "metadata": {
      "needs_background": "light"
     },
     "output_type": "display_data"
    }
   ],
   "source": [
    "essai_chessboard._config_to_image()"
   ]
  },
  {
   "cell_type": "code",
   "execution_count": 326,
   "metadata": {},
   "outputs": [
    {
     "name": "stdout",
     "output_type": "stream",
     "text": [
      "config up and donw: 1 1\n",
      "config right and left: 2 2\n",
      "New left,right,up,down: 6 5 4 3\n",
      "0.12237713998867865\n",
      "config up and donw: 1 1\n",
      "config right and left: 2 2\n",
      "New left,right,up,down: 6 5 4 3\n",
      "0.12237713998867865\n",
      "config up and donw: 1 1\n",
      "config right and left: 2 2\n",
      "New left,right,up,down: 6 5 4 3\n",
      "0.12237713998867865\n",
      "config up and donw: 2 2\n",
      "config right and left: 1 1\n",
      "New left,right,up,down: 5 6 3 4\n",
      "0.12237713998867865\n",
      "config up and donw: 2 2\n",
      "config right and left: 1 1\n",
      "New left,right,up,down: 5 6 3 4\n",
      "0.12237713998867865\n",
      "config up and donw: 1 1\n",
      "config right and left: 2 2\n",
      "New left,right,up,down: 6 5 4 3\n",
      "0.12237713998867865\n",
      "config up and donw: 1 1\n",
      "config right and left: 2 2\n",
      "New left,right,up,down: 6 5 4 3\n",
      "0.12237713998867865\n",
      "config up and donw: 2 2\n",
      "config right and left: 1 1\n",
      "New left,right,up,down: 5 6 3 4\n",
      "0.12237713998867865\n",
      "config up and donw: 2 2\n",
      "config right and left: 1 1\n",
      "New left,right,up,down: 5 6 3 4\n",
      "0.12237713998867865\n",
      "config up and donw: 2 2\n",
      "config right and left: 1 1\n",
      "New left,right,up,down: 5 6 3 4\n",
      "0.12237713998867865\n",
      "change selected 2 0\n",
      "5 6 3 4\n",
      "down: 3 0 new type 4\n",
      "up: 1 0 new type 3\n"
     ]
    },
    {
     "data": {
      "image/png": "[encoded data removed]",
      "text/plain": [
       "<Figure size 432x288 with 1 Axes>"
      ]
     },
     "metadata": {
      "needs_background": "light"
     },
     "output_type": "display_data"
    }
   ],
   "source": [
    "for i in range(10): \n",
    "    if essai_chessboard.local_update(): essai_chessboard._config_to_image()"
   ]
  },
  {
   "cell_type": "code",
   "execution_count": null,
   "metadata": {},
   "outputs": [],
   "source": []
  }
 ],
 "metadata": {
  "kernelspec": {
   "display_name": "Python 3.8.5 ('base')",
   "language": "python",
   "name": "python3"
  },
  "language_info": {
   "codemirror_mode": {
    "name": "ipython",
    "version": 3
   },
   "file_extension": ".py",
   "mimetype": "text/x-python",
   "name": "python",
   "nbconvert_exporter": "python",
   "pygments_lexer": "ipython3",
   "version": "3.8.5"
  },
  "orig_nbformat": 4,
  "vscode": {
   "interpreter": {
    "hash": "ad2bdc8ecc057115af97d19610ffacc2b4e99fae6737bb82f5d7fb13d2f2c186"
   }
  }
 },
 "nbformat": 4,
 "nbformat_minor": 2
}
